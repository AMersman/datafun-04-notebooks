{
 "cells": [
  {
   "cell_type": "markdown",
   "id": "183ffbdc",
   "metadata": {},
   "source": [
    "# Ashley Mersman's Module 4 Project\n"
   ]
  },
  {
   "cell_type": "markdown",
   "id": "484e1fc0",
   "metadata": {},
   "source": [
    "## Task 1 - Series"
   ]
  },
  {
   "cell_type": "code",
   "execution_count": 1,
   "id": "724be696",
   "metadata": {},
   "outputs": [],
   "source": [
    "#import \n",
    "import pandas as pd\n",
    "import numpy as np"
   ]
  },
  {
   "cell_type": "code",
   "execution_count": 2,
   "id": "7e69e371",
   "metadata": {},
   "outputs": [],
   "source": [
    "#create Series of grades\n",
    "grades = pd.Series([96, 95, 76, 88, 54, 75, 84, 101])"
   ]
  },
  {
   "cell_type": "code",
   "execution_count": 3,
   "id": "c86180cf",
   "metadata": {},
   "outputs": [
    {
     "data": {
      "text/plain": [
       "96"
      ]
     },
     "execution_count": 3,
     "metadata": {},
     "output_type": "execute_result"
    }
   ],
   "source": [
    "#call index 0 of grades\n",
    "grades[0]"
   ]
  },
  {
   "cell_type": "code",
   "execution_count": 4,
   "id": "f4cdde66",
   "metadata": {},
   "outputs": [
    {
     "data": {
      "text/plain": [
       "8"
      ]
     },
     "execution_count": 4,
     "metadata": {},
     "output_type": "execute_result"
    }
   ],
   "source": [
    "#call functions of count, describe, mean, min, max, and std on the Series\n",
    "grades.count()"
   ]
  },
  {
   "cell_type": "code",
   "execution_count": 5,
   "id": "4b55e11f",
   "metadata": {},
   "outputs": [
    {
     "data": {
      "text/plain": [
       "count      8.000000\n",
       "mean      83.625000\n",
       "std       15.183991\n",
       "min       54.000000\n",
       "25%       75.750000\n",
       "50%       86.000000\n",
       "75%       95.250000\n",
       "max      101.000000\n",
       "dtype: float64"
      ]
     },
     "execution_count": 5,
     "metadata": {},
     "output_type": "execute_result"
    }
   ],
   "source": [
    "grades.describe()"
   ]
  },
  {
   "cell_type": "code",
   "execution_count": 6,
   "id": "1523b655",
   "metadata": {},
   "outputs": [
    {
     "data": {
      "text/plain": [
       "83.625"
      ]
     },
     "execution_count": 6,
     "metadata": {},
     "output_type": "execute_result"
    }
   ],
   "source": [
    "grades.mean()"
   ]
  },
  {
   "cell_type": "code",
   "execution_count": 7,
   "id": "456a2e54",
   "metadata": {},
   "outputs": [
    {
     "data": {
      "text/plain": [
       "101"
      ]
     },
     "execution_count": 7,
     "metadata": {},
     "output_type": "execute_result"
    }
   ],
   "source": [
    "grades.max()"
   ]
  },
  {
   "cell_type": "code",
   "execution_count": 8,
   "id": "edd27c25",
   "metadata": {},
   "outputs": [
    {
     "data": {
      "text/plain": [
       "54"
      ]
     },
     "execution_count": 8,
     "metadata": {},
     "output_type": "execute_result"
    }
   ],
   "source": [
    "grades.min()"
   ]
  },
  {
   "cell_type": "code",
   "execution_count": 9,
   "id": "058fc3fb",
   "metadata": {},
   "outputs": [
    {
     "data": {
      "text/plain": [
       "15.183990629230887"
      ]
     },
     "execution_count": 9,
     "metadata": {},
     "output_type": "execute_result"
    }
   ],
   "source": [
    "grades.std()"
   ]
  },
  {
   "cell_type": "markdown",
   "id": "d23b3f0f",
   "metadata": {},
   "source": [
    "## Task 2 - Series from Dictionary"
   ]
  },
  {
   "cell_type": "code",
   "execution_count": 10,
   "id": "f4d2eb84",
   "metadata": {},
   "outputs": [],
   "source": [
    "#Create Series from dictionary (pg 267)\n",
    "grades_dict = pd.Series({'Wally' : [87, 96,70], 'Eva': [100, 87, 90], 'Sam':[94,77,90], 'Katie':[100,81,82], 'Bob':[83,65,85]})"
   ]
  },
  {
   "cell_type": "code",
   "execution_count": 11,
   "id": "6af39427",
   "metadata": {},
   "outputs": [
    {
     "data": {
      "text/plain": [
       "[100, 87, 90]"
      ]
     },
     "execution_count": 11,
     "metadata": {},
     "output_type": "execute_result"
    }
   ],
   "source": [
    "#call grades for Eva and Wally using different notations\n",
    "grades_dict['Eva']"
   ]
  },
  {
   "cell_type": "markdown",
   "id": "521b831c",
   "metadata": {},
   "source": [
    "# "
   ]
  },
  {
   "cell_type": "code",
   "execution_count": 12,
   "id": "2de73295",
   "metadata": {},
   "outputs": [
    {
     "data": {
      "text/plain": [
       "[87, 96, 70]"
      ]
     },
     "execution_count": 12,
     "metadata": {},
     "output_type": "execute_result"
    }
   ],
   "source": [
    "grades_dict.Wally"
   ]
  },
  {
   "cell_type": "code",
   "execution_count": 13,
   "id": "f7211488",
   "metadata": {},
   "outputs": [
    {
     "data": {
      "text/plain": [
       "array([list([87, 96, 70]), list([100, 87, 90]), list([94, 77, 90]),\n",
       "       list([100, 81, 82]), list([83, 65, 85])], dtype=object)"
      ]
     },
     "execution_count": 13,
     "metadata": {},
     "output_type": "execute_result"
    }
   ],
   "source": [
    "#display array of values \n",
    "grades_dict.values"
   ]
  },
  {
   "cell_type": "code",
   "execution_count": 14,
   "id": "61370bee",
   "metadata": {},
   "outputs": [],
   "source": [
    "#Self check (pg266)"
   ]
  },
  {
   "cell_type": "code",
   "execution_count": 15,
   "id": "a3000da8",
   "metadata": {},
   "outputs": [],
   "source": [
    "temps = np.random.randint(60, 101, 6)"
   ]
  },
  {
   "cell_type": "code",
   "execution_count": 16,
   "id": "02fafaa6",
   "metadata": {},
   "outputs": [],
   "source": [
    "temperatures = pd.Series(temps)"
   ]
  },
  {
   "cell_type": "code",
   "execution_count": 17,
   "id": "8782b5f7",
   "metadata": {},
   "outputs": [
    {
     "data": {
      "text/plain": [
       "0    64\n",
       "1    60\n",
       "2    81\n",
       "3    87\n",
       "4    71\n",
       "5    64\n",
       "dtype: int64"
      ]
     },
     "execution_count": 17,
     "metadata": {},
     "output_type": "execute_result"
    }
   ],
   "source": [
    "temperatures"
   ]
  },
  {
   "cell_type": "code",
   "execution_count": 18,
   "id": "009a2cef",
   "metadata": {},
   "outputs": [
    {
     "data": {
      "text/plain": [
       "60"
      ]
     },
     "execution_count": 18,
     "metadata": {},
     "output_type": "execute_result"
    }
   ],
   "source": [
    "temperatures.min()"
   ]
  },
  {
   "cell_type": "code",
   "execution_count": 20,
   "id": "7ced82d1",
   "metadata": {},
   "outputs": [
    {
     "data": {
      "text/plain": [
       "87"
      ]
     },
     "execution_count": 20,
     "metadata": {},
     "output_type": "execute_result"
    }
   ],
   "source": [
    "temperatures.max()"
   ]
  },
  {
   "cell_type": "code",
   "execution_count": 21,
   "id": "1f9f839b",
   "metadata": {},
   "outputs": [
    {
     "data": {
      "text/plain": [
       "71.16666666666667"
      ]
     },
     "execution_count": 21,
     "metadata": {},
     "output_type": "execute_result"
    }
   ],
   "source": [
    "temperatures.mean()"
   ]
  },
  {
   "cell_type": "code",
   "execution_count": 22,
   "id": "486a6e85",
   "metadata": {},
   "outputs": [
    {
     "data": {
      "text/plain": [
       "count     6.000000\n",
       "mean     71.166667\n",
       "std      10.722251\n",
       "min      60.000000\n",
       "25%      64.000000\n",
       "50%      67.500000\n",
       "75%      78.500000\n",
       "max      87.000000\n",
       "dtype: float64"
      ]
     },
     "execution_count": 22,
     "metadata": {},
     "output_type": "execute_result"
    }
   ],
   "source": [
    "temperatures.describe()"
   ]
  },
  {
   "cell_type": "code",
   "execution_count": null,
   "id": "6e145957",
   "metadata": {},
   "outputs": [],
   "source": []
  }
 ],
 "metadata": {
  "kernelspec": {
   "display_name": "Python 3",
   "language": "python",
   "name": "python3"
  },
  "language_info": {
   "codemirror_mode": {
    "name": "ipython",
    "version": 3
   },
   "file_extension": ".py",
   "mimetype": "text/x-python",
   "name": "python",
   "nbconvert_exporter": "python",
   "pygments_lexer": "ipython3",
   "version": "3.8.8"
  }
 },
 "nbformat": 4,
 "nbformat_minor": 5
}
