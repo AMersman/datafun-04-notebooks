{
 "cells": [
  {
   "cell_type": "markdown",
   "id": "043bb2fd",
   "metadata": {},
   "source": [
    "# Optional Task 5 (Bonus).\n",
    "1. Raw data is rarely ready for use.\n",
    "2. Data preparation can be about 75% (or more) of our work.\n",
    "3. Work through Ch 8.13 to get an idea of wrangling (cleaning & transforming) data.\n",
    "4. On your machine, in your repo, create an additional notebook named xtra_p4.ipynb.\n",
    "5. Start by creating the list of contacts in \"Reformatting your Data\" on page 310.\n",
    "6. Create a DataFrame. \n",
    "7. The phone numbers are not formatted.\n",
    "9. Follow the text to create a function that uses regular expressions (usually abbreviated regex or re) to create a function to get a formatted version of the unformatted phone number. \n",
    "10. Use map() and your function to improve the DataFrame \n",
    "11. Verify phone numbers now appear with two dashes (e.g., 555-555-5555). \n",
    "12. Prepare your notebook with a nice header (include a title, your name, and date)\n",
    "13. Clearly label your steps and result. \n",
    "14. Execute the entire notebook, export it to xtra_p4.html.\n",
    "15. Commit and push both files into your GitHub repo. \n"
   ]
  },
  {
   "cell_type": "code",
   "execution_count": null,
   "id": "405d7bae",
   "metadata": {},
   "outputs": [],
   "source": []
  }
 ],
 "metadata": {
  "kernelspec": {
   "display_name": "Python 3",
   "language": "python",
   "name": "python3"
  },
  "language_info": {
   "codemirror_mode": {
    "name": "ipython",
    "version": 3
   },
   "file_extension": ".py",
   "mimetype": "text/x-python",
   "name": "python",
   "nbconvert_exporter": "python",
   "pygments_lexer": "ipython3",
   "version": "3.8.8"
  }
 },
 "nbformat": 4,
 "nbformat_minor": 5
}
