{
 "cells": [
  {
   "cell_type": "code",
   "execution_count": 1,
   "id": "2aa39810",
   "metadata": {},
   "outputs": [],
   "source": [
    "# Ashley Mersman - Bonus for Module 4"
   ]
  },
  {
   "cell_type": "markdown",
   "id": "043bb2fd",
   "metadata": {},
   "source": [
    "# Optional Task 5 (Bonus).\n",
    "1. Raw data is rarely ready for use.\n",
    "2. Data preparation can be about 75% (or more) of our work.\n",
    "3. Work through Ch 8.13 to get an idea of wrangling (cleaning & transforming) data.\n",
    "4. On your machine, in your repo, create an additional notebook named xtra_p4.ipynb.\n",
    "5. Start by creating the list of contacts in \"Reformatting your Data\" on page 310.\n",
    "6. Create a DataFrame. \n",
    "7. The phone numbers are not formatted.\n",
    "9. Follow the text to create a function that uses regular expressions (usually abbreviated regex or re) to create a function to get a formatted version of the unformatted phone number. \n",
    "10. Use map() and your function to improve the DataFrame \n",
    "11. Verify phone numbers now appear with two dashes (e.g., 555-555-5555). \n",
    "12. Prepare your notebook with a nice header (include a title, your name, and date)\n",
    "13. Clearly label your steps and result. \n",
    "14. Execute the entire notebook, export it to xtra_p4.html.\n",
    "15. Commit and push both files into your GitHub repo. \n"
   ]
  },
  {
   "cell_type": "code",
   "execution_count": 3,
   "id": "90a8d4b9",
   "metadata": {},
   "outputs": [],
   "source": [
    "#import\n",
    "import numpy as np \n",
    "import pandas as pd"
   ]
  },
  {
   "cell_type": "code",
   "execution_count": 5,
   "id": "405d7bae",
   "metadata": {},
   "outputs": [],
   "source": [
    "#Contacts from pg 310\n",
    "contacts = [['Mike Green', 'demo1@deitel.com', '5555555555'],\n",
    "            ['Sue Green', 'demo1@deitel.com', '5555551234']]"
   ]
  },
  {
   "cell_type": "code",
   "execution_count": 8,
   "id": "fce64d2f",
   "metadata": {},
   "outputs": [],
   "source": [
    "#convert contacts to DataFrame with sepcified column names\n",
    "contactsdf = pd.DataFrame(contacts, columns=['Name', 'Email', 'Phone'])"
   ]
  },
  {
   "cell_type": "code",
   "execution_count": 11,
   "id": "165d26e4",
   "metadata": {},
   "outputs": [
    {
     "data": {
      "text/plain": [
       "0    555-555-5555\n",
       "1    555-555-1234\n",
       "Name: Phone, dtype: object"
      ]
     },
     "execution_count": 11,
     "metadata": {},
     "output_type": "execute_result"
    }
   ],
   "source": [
    "# format function for phone numbers\n",
    "import re\n",
    "\n",
    "def format_phone(value):\n",
    "    format = re.fullmatch(r'(\\d{3})(\\d{3})(\\d{4})', value)\n",
    "    return '-'.join(format.groups()) if format else value\n",
    "\n",
    "# Format phone numbers\n",
    "formatted_phone = contactsdf.Phone.map(format_phone)\n",
    "formatted_phone"
   ]
  },
  {
   "cell_type": "code",
   "execution_count": 13,
   "id": "2e550033",
   "metadata": {},
   "outputs": [
    {
     "data": {
      "text/html": [
       "<div>\n",
       "<style scoped>\n",
       "    .dataframe tbody tr th:only-of-type {\n",
       "        vertical-align: middle;\n",
       "    }\n",
       "\n",
       "    .dataframe tbody tr th {\n",
       "        vertical-align: top;\n",
       "    }\n",
       "\n",
       "    .dataframe thead th {\n",
       "        text-align: right;\n",
       "    }\n",
       "</style>\n",
       "<table border=\"1\" class=\"dataframe\">\n",
       "  <thead>\n",
       "    <tr style=\"text-align: right;\">\n",
       "      <th></th>\n",
       "      <th>Name</th>\n",
       "      <th>Email</th>\n",
       "      <th>Phone</th>\n",
       "    </tr>\n",
       "  </thead>\n",
       "  <tbody>\n",
       "    <tr>\n",
       "      <th>0</th>\n",
       "      <td>Mike Green</td>\n",
       "      <td>demo1@deitel.com</td>\n",
       "      <td>555-555-5555</td>\n",
       "    </tr>\n",
       "    <tr>\n",
       "      <th>1</th>\n",
       "      <td>Sue Green</td>\n",
       "      <td>demo1@deitel.com</td>\n",
       "      <td>555-555-1234</td>\n",
       "    </tr>\n",
       "  </tbody>\n",
       "</table>\n",
       "</div>"
      ],
      "text/plain": [
       "         Name             Email         Phone\n",
       "0  Mike Green  demo1@deitel.com  555-555-5555\n",
       "1   Sue Green  demo1@deitel.com  555-555-1234"
      ]
     },
     "execution_count": 13,
     "metadata": {},
     "output_type": "execute_result"
    }
   ],
   "source": [
    "#convert phone in DataFrame to formatted phone\n",
    "contactsdf.Phone = formatted_phone\n",
    "contactsdf"
   ]
  },
  {
   "cell_type": "code",
   "execution_count": null,
   "id": "bb4bc37a",
   "metadata": {},
   "outputs": [],
   "source": []
  }
 ],
 "metadata": {
  "kernelspec": {
   "display_name": "Python 3",
   "language": "python",
   "name": "python3"
  },
  "language_info": {
   "codemirror_mode": {
    "name": "ipython",
    "version": 3
   },
   "file_extension": ".py",
   "mimetype": "text/x-python",
   "name": "python",
   "nbconvert_exporter": "python",
   "pygments_lexer": "ipython3",
   "version": "3.8.8"
  }
 },
 "nbformat": 4,
 "nbformat_minor": 5
}
